{
  "cells": [
    {
      "cell_type": "markdown",
      "metadata": {
        "id": "view-in-github",
        "colab_type": "text"
      },
      "source": [
        "<a href=\"https://colab.research.google.com/github/FB-Decipherer/Experiment-1/blob/main/Template_Match_1623_v53.ipynb\" target=\"_parent\"><img src=\"https://colab.research.google.com/assets/colab-badge.svg\" alt=\"Open In Colab\"/></a>"
      ]
    },
    {
      "cell_type": "markdown",
      "metadata": {
        "id": "6Tq-nmJ7I-cj"
      },
      "source": [
        "# Template Match 1623\n",
        "Classifier Emulation"
      ]
    },
    {
      "cell_type": "code",
      "execution_count": null,
      "metadata": {
        "id": "UKirychg_FwH"
      },
      "outputs": [],
      "source": [
        "from google.colab import drive\n",
        "drive.mount('/content/drive')"
      ]
    },
    {
      "cell_type": "code",
      "execution_count": null,
      "metadata": {
        "id": "ROnYnVE-tr-5"
      },
      "outputs": [],
      "source": [
        "!pip install filetype"
      ]
    },
    {
      "cell_type": "code",
      "execution_count": null,
      "metadata": {
        "id": "qcOUwdTZoHmp"
      },
      "outputs": [],
      "source": [
        "import os\n",
        "from   pathlib import Path\n",
        "from   google.colab import files\n",
        "from google.colab.patches import cv2_imshow\n",
        "\n",
        "import filetype\n",
        "import cv2\n",
        "import numpy as np\n",
        "import pandas as pd\n",
        "import matplotlib.pyplot as plt"
      ]
    },
    {
      "cell_type": "markdown",
      "metadata": {
        "id": "SWAKO2qzs4Oa"
      },
      "source": []
    },
    {
      "cell_type": "code",
      "execution_count": null,
      "metadata": {
        "id": "zB2hfKwEoMFp"
      },
      "outputs": [],
      "source": [
        "content_root = '/content/drive/MyDrive/Template Match/'\n",
        "\n",
        "targets_dir = content_root + 'Targets/'\n",
        "templates_dir = content_root + 'Templates/'"
      ]
    },
    {
      "cell_type": "code",
      "execution_count": null,
      "metadata": {
        "id": "z4O8y4S-y6g-"
      },
      "outputs": [],
      "source": [
        "#@title Define Local Utility Routines:\n",
        "\n",
        "def obj_exists(name,obj=None):\n",
        " if obj is None: return locals().has_key(name)\n",
        " else: return hasattr(obj,name)\n",
        "\n",
        "def image_valid(image_path):\n",
        "\n",
        "  if filetype.is_image(image_path):\n",
        "    return True\n",
        "  else:\n",
        "    print(f\"{image_path} is a not a valid image...\")\n",
        "    return False\n",
        "  "
      ]
    },
    {
      "cell_type": "code",
      "execution_count": null,
      "metadata": {
        "id": "VW1ppB3roqV8",
        "cellView": "form"
      },
      "outputs": [],
      "source": [
        "#@title Read and Display Target (larger) Image file:\n",
        "\n",
        "# target_file_path = '/content/drive/MyDrive/Template Match/Targets/default target image a.jpeg'\n",
        "target_file_path ='/content/drive/MyDrive/Template Match/Targets/Bodlein TC Prologue 1623.jpg'\n",
        "# target_file_path ='/content/drive/MyDrive/Template Match/Targets/Prologue Line 7.jpg'\n",
        "\n",
        "if(image_valid(target_file_path)):\n",
        "\n",
        "  target_image = cv2.imread(target_file_path)\n",
        "\n",
        "  fig = plt.figure(figsize=(80,4))\n",
        "  plt.title('Original Target Image File')\n",
        "  plt.imshow(cv2.cvtColor(target_image, cv2.COLOR_BGR2RGB))\n",
        "  plt.show()"
      ]
    },
    {
      "cell_type": "code",
      "execution_count": null,
      "metadata": {
        "id": "UXE74BeOAwp7",
        "cellView": "form"
      },
      "outputs": [],
      "source": [
        "#@title Read and Display Template (smaller) Image file:\n",
        "\n",
        "template_file_path = '/content/drive/MyDrive/Template Match/Templates/v.jpg'\n",
        "\n",
        "if(image_valid(template_file_path)):\n",
        "\n",
        "  template_image = cv2.imread(template_file_path, 0)\n",
        "\n",
        "  fig = plt.figure(figsize=(80,4))\n",
        "  plt.title('Original Template Image File')\n",
        "  plt.imshow(cv2.cvtColor(template_image, cv2.COLOR_BGR2RGB))\n",
        "  plt.show()"
      ]
    },
    {
      "cell_type": "code",
      "execution_count": null,
      "metadata": {
        "id": "076j6cjd5gnc"
      },
      "outputs": [],
      "source": [
        "#@title Preprocess the Target image data:\n",
        "\n",
        "def preprocess_target(target_image):\n",
        "\n",
        "  target_gray = cv2.cvtColor(target_image,cv2.COLOR_BGR2GRAY)\n",
        "  #target_blur = cv2.GaussianBlur(target_gray, (5,5), 0)\n",
        "  #target_thresh = cv2.threshold(target_blur, 0, 255, cv2.THRESH_BINARY_INV + cv2.THRESH_OTSU)[1]\n",
        "  #kernel = cv2.getStructuringElement(cv2.MORPH_RECT, (35,35))\n",
        "  #target_dilate = cv2.dilate(target_thresh, kernel, iterations=2)\n",
        "  pre_processed_target = target_gray\n",
        "\n",
        "  return pre_processed_target\n",
        "\n",
        "pre_processed_target = preprocess_target(target_image)\n",
        "\n"
      ]
    },
    {
      "cell_type": "code",
      "execution_count": null,
      "metadata": {
        "id": "v3Q1mQ4Pi8X2"
      },
      "outputs": [],
      "source": [
        "#@title Postprocess the Results:\n",
        "\n",
        "def post_process_results(results):\n",
        "\n",
        "\n",
        "  # Suppose we are searching for an object which has multiple occurrences:\n",
        "  # In that case, we will use thresholding. \n",
        "  # Let's make the threshold 0.7\n",
        "  threshold = 0.70\n",
        "\n",
        "  #@title Filter out duplicate bounding boxes:\n",
        "\n",
        "  unfiltered_points = np.where(results >= threshold) #returns a tuple\n",
        "  #print(loc)\n",
        "\n",
        "  x = unfiltered_points[0]\n",
        "  y = unfiltered_points[1]\n",
        "\n",
        "  x_filter = []\n",
        "  i = 0\n",
        "  prev_x = 0\n",
        "    \n",
        "  # Iterating using while loop\n",
        "  while i < len(x):\n",
        "      diff_x = x[i] - prev_x\n",
        "      #print(diff_x)\n",
        "\n",
        "      if diff_x < 10:\n",
        "        x_filter.append(False)\n",
        "\n",
        "      else:\n",
        "        #print('loc x: ' + str(x[i]))\n",
        "        x_filter.append(True)\n",
        "\n",
        "      prev_x = x[i]\n",
        "      i += 1\n",
        "\n",
        "  x_filtered = x[x_filter]\n",
        "  y_filtered = y[x_filter]\n",
        "\n",
        "  #print(x_filtered)\n",
        "  #print(y_filtered)\n",
        "\n",
        "  filtered_points = (x_filtered, y_filtered)\n",
        "\n",
        "  return filtered_points\n"
      ]
    },
    {
      "cell_type": "code",
      "execution_count": null,
      "metadata": {
        "id": "_A17IdoBif-x"
      },
      "outputs": [],
      "source": []
    },
    {
      "cell_type": "code",
      "execution_count": null,
      "metadata": {
        "id": "T37AN38Wij7o"
      },
      "outputs": [],
      "source": [
        "#@title Apply the template matching onto the Target from the Template:\n",
        "\n",
        "# Find contours, obtain bounding box coordinates, and extract ROI:\n",
        "#cnts = cv2.findContours(pre_processed_target, cv2.RETR_EXTERNAL, cv2.CHAIN_APPROX_SIMPLE)\n",
        "#cnts = cnts[0] if len(cnts) == 2 else cnts[1]# Get the shape of the template:\n",
        "\n",
        "w, h = template_image.shape[::-1]\n",
        "\n",
        "# Remember, that the size of the template should \n",
        "# be as much as possible the same, as its size in the target image.\n",
        "\n",
        "results = cv2.matchTemplate(pre_processed_target,\n",
        "                        template_image,\n",
        "                        cv2.TM_CCOEFF_NORMED)\n",
        "\n",
        "min_val, max_val, min_loc, max_loc = cv2.minMaxLoc(results) \n"
      ]
    },
    {
      "cell_type": "code",
      "execution_count": null,
      "metadata": {
        "id": "g7KsJSuwi0Zc"
      },
      "outputs": [],
      "source": [
        "processed_results = post_process_results(results)\n"
      ]
    },
    {
      "cell_type": "code",
      "execution_count": null,
      "metadata": {
        "id": "Cpz4poOJzJGg"
      },
      "outputs": [],
      "source": [
        "dr = pd.DataFrame(processed_results)\n",
        "dr_transposed = dr.T # or df2.transpose()\n",
        "dr_transposed.columns =['x', 'y']\n",
        "\n",
        "styles = [dict(selector=\"caption\",\n",
        "                       props=[(\"text-align\", \"center\"),\n",
        "                              (\"font-size\", \"150%\"),\n",
        "                              (\"color\", 'black')])]\n",
        "dr_transposed.style.set_caption(\"caption set\").set_table_styles(styles)\n",
        "dr_transposed"
      ]
    },
    {
      "cell_type": "code",
      "execution_count": null,
      "metadata": {
        "id": "Qtk8asvDoJ8A"
      },
      "outputs": [],
      "source": [
        "#print(\"Show positions of objects in the Target which match the Template at or above the Threshold:\")\n",
        "\n",
        "for pt in zip(*unfiltered_points[::-1]):\n",
        "    cv2.rectangle(target_image, pt, (pt[0] + w, pt[1] + h), (255,0,255), 1)\n",
        "    confidence = results[pt[1]][pt[0]]\n",
        "\n",
        "cv2_imshow(template_image)\n",
        "cv2_imshow(target_image)\n",
        "\n"
      ]
    },
    {
      "cell_type": "markdown",
      "metadata": {
        "id": "3UoHzxL4pW1s"
      },
      "source": [
        "**Draw Rectanlges over the Target Image**"
      ]
    },
    {
      "cell_type": "code",
      "execution_count": null,
      "metadata": {
        "id": "j77MKMTVjcoR"
      },
      "outputs": [],
      "source": [
        "loc_list = []\n",
        "for pt in zip(*filtered_points[::-1]):\n",
        "    cv2.rectangle(target_image, pt, (pt[0] + w, pt[1] + h), (255,0,255), 1)\n",
        "    confidence = results[pt[1]][pt[0]]\n",
        "    loc_list.append(confidence)\n",
        "\n",
        "#print(loc_list)\n",
        "\n",
        "dff = pd.DataFrame(loc_list, columns =['Confidence'], dtype = float) \n",
        "dff.index = dff.index + 1\n",
        "print(dff) \n",
        "\n"
      ]
    },
    {
      "cell_type": "code",
      "source": [],
      "metadata": {
        "id": "FXDZs8uSEk95"
      },
      "execution_count": null,
      "outputs": []
    }
  ],
  "metadata": {
    "colab": {
      "provenance": [],
      "private_outputs": true,
      "include_colab_link": true
    },
    "kernelspec": {
      "display_name": "Python 3",
      "name": "python3"
    },
    "language_info": {
      "name": "python"
    },
    "gpuClass": "standard"
  },
  "nbformat": 4,
  "nbformat_minor": 0
}